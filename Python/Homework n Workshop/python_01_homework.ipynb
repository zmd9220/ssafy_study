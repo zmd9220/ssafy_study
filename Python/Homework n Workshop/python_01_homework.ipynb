{
 "cells": [
  {
   "cell_type": "markdown",
   "metadata": {},
   "source": [
    "# Homework\n",
    "> 데이터 & 제어문"
   ]
  },
  {
   "cell_type": "markdown",
   "metadata": {},
   "source": [
    "## 1. Python 예약어\n",
    "\n",
    "> python에서 사용할 수 없는 식별자(예약어)를 찾아 작성하시오."
   ]
  },
  {
   "cell_type": "code",
   "execution_count": 9,
   "metadata": {},
   "outputs": [
    {
     "name": "stdout",
     "output_type": "stream",
     "text": [
      "['False', 'None', 'True', 'and', 'as', 'assert', 'async', 'await', 'break', 'class', 'continue', 'def', 'del', 'elif', 'else', 'except', 'finally', 'for', 'from', 'global', 'if', 'import', 'in', 'is', 'lambda', 'nonlocal', 'not', 'or', 'pass', 'raise', 'return', 'try', 'while', 'with', 'yield']\n"
     ]
    }
   ],
   "source": [
    "# 아래에 답안을 작성하시오.\n",
    "import keyword\n",
    "print(keyword.kwlist)\n",
    "\n",
    "# 키워드리스트를 통해 기본적인 예약어를 확인할 수 있으며, \n",
    "# 이외에도 print와 같은 내장 함수, 모듈의 이름을 변수화 할경우\n",
    "# 해당 기능을 사용하지 못하므로 변수명으로 사용하지 않는 것이 좋다.\n"
   ]
  },
  {
   "cell_type": "markdown",
   "metadata": {},
   "source": [
    "## 2. 실수 비교\n",
    "\n",
    "> python은 부동소수점 방식을 이용하여 실수(float)를 표현하는 과정에서, 나타내고자 하는 값과의 오차가 발생하여 원하는 대로 연산 또는 비교가 되지 않을 때가 있다. 이를 참고하여, 아래와 같은 두 실수 값을 올바르게 비교하기 위한 코드를 작성하시오.\n"
   ]
  },
  {
   "cell_type": "code",
   "execution_count": 1,
   "metadata": {},
   "outputs": [
    {
     "data": {
      "text/plain": [
       "True"
      ]
     },
     "execution_count": 1,
     "metadata": {},
     "output_type": "execute_result"
    }
   ],
   "source": [
    "import math\n",
    "\n",
    "num1 = 0.1 * 3\n",
    "num2 = 0.3\n",
    "\n",
    "# 아래에 답안을 작성하시오.\n",
    "math.isclose(num1, num2)\n"
   ]
  },
  {
   "cell_type": "markdown",
   "metadata": {},
   "source": [
    "## 3. 이스케이프 시퀀스\n",
    "\n",
    "> (1) 줄 바꿈, (2) 탭, (3) 백슬래시를 의미하는 이스케이프 시퀀스를 작성하시오."
   ]
  },
  {
   "cell_type": "code",
   "execution_count": 12,
   "metadata": {},
   "outputs": [
    {
     "data": {
      "text/plain": [
       "'\\\\'"
      ]
     },
     "execution_count": 12,
     "metadata": {},
     "output_type": "execute_result"
    }
   ],
   "source": [
    "# 아래에 답안을 작성하시오.\n",
    "'\\n' # 1\n",
    "'\\t' # 2\n",
    "'\\\\' # 3"
   ]
  },
  {
   "cell_type": "markdown",
   "metadata": {},
   "source": [
    "## 4. String Interpolation\n",
    "\n",
    "> “안녕, 철수야\"를 string interpolation을 사용하여 출력하시오."
   ]
  },
  {
   "cell_type": "code",
   "execution_count": 7,
   "metadata": {},
   "outputs": [
    {
     "name": "stdout",
     "output_type": "stream",
     "text": [
      "안녕, 철수야\n",
      "안녕, 철수야\n",
      "안녕, 철수야\n"
     ]
    }
   ],
   "source": [
    "name = '철수'\n",
    "\n",
    "# 아래에 답안을 작성하시오.\n",
    "# 3가지 방법 f-string, %-formatting, str.format()이 있다.\n",
    "print(f'안녕, {name}야')\n",
    "print('안녕, %s야' % name)\n",
    "print('안녕, {}야'.format(name))\n"
   ]
  },
  {
   "cell_type": "markdown",
   "metadata": {},
   "source": [
    "## 5. 형 변환\n",
    "\n",
    "> 다음 중, 실행 시 오류가 발생하는 코드를 고르시오.\n",
    "\n",
    "```python\n",
    "str(1) # (1)\n",
    "int('30') # (2)\n",
    "int(5) # (3)\n",
    "bool('50') # (4)\n",
    "int('3.5') # (5)\n",
    "```"
   ]
  },
  {
   "cell_type": "code",
   "execution_count": 13,
   "metadata": {},
   "outputs": [
    {
     "ename": "ValueError",
     "evalue": "invalid literal for int() with base 10: '3.5'",
     "output_type": "error",
     "traceback": [
      "\u001b[1;31m---------------------------------------------------------------------------\u001b[0m",
      "\u001b[1;31mValueError\u001b[0m                                Traceback (most recent call last)",
      "\u001b[1;32m<ipython-input-13-85605df4face>\u001b[0m in \u001b[0;36m<module>\u001b[1;34m\u001b[0m\n\u001b[0;32m      1\u001b[0m \u001b[1;31m# 아래에 답안을 작성하시오.\u001b[0m\u001b[1;33m\u001b[0m\u001b[1;33m\u001b[0m\u001b[1;33m\u001b[0m\u001b[0m\n\u001b[1;32m----> 2\u001b[1;33m \u001b[0mint\u001b[0m\u001b[1;33m(\u001b[0m\u001b[1;34m'3.5'\u001b[0m\u001b[1;33m)\u001b[0m \u001b[1;31m# (5) - int 형변환은 정수형 문자열의 경우가 변환 가능하며 소수의 경우 float()를 사용해야 한다.\u001b[0m\u001b[1;33m\u001b[0m\u001b[1;33m\u001b[0m\u001b[0m\n\u001b[0m",
      "\u001b[1;31mValueError\u001b[0m: invalid literal for int() with base 10: '3.5'"
     ]
    }
   ],
   "source": [
    "# 아래에 답안을 작성하시오.\n",
    "int('3.5') # (5) - int 형변환은 정수형 문자열의 경우가 변환 가능하며 소수의 경우 float()를 사용해야 한다.\n"
   ]
  },
  {
   "cell_type": "markdown",
   "metadata": {},
   "source": [
    "## 6. 네모 출력\n",
    "\n",
    "> 두 개의 정수 n과 m이 주어졌을 때, 가로의 길이가 n, 세로의 길이가 m인 직사각형 형태를 별(`*`) 문자를 이용하여 출력하시오. 단, 반복문은 사용할 수 없다."
   ]
  },
  {
   "cell_type": "code",
   "execution_count": 21,
   "metadata": {},
   "outputs": [
    {
     "name": "stdout",
     "output_type": "stream",
     "text": [
      "*****\n",
      "*****\n",
      "*****\n",
      "*****\n",
      "*****\n",
      "*****\n",
      "*****\n",
      "*****\n",
      "*****\n",
      "\n"
     ]
    }
   ],
   "source": [
    "n = 5\n",
    "m = 9\n",
    "\n",
    "# 아래에 답안을 작성하시오.\n",
    "\n",
    "print(('*' * n + '\\n') * m ) \n"
   ]
  },
  {
   "cell_type": "markdown",
   "metadata": {},
   "source": [
    "## 7. 이스케이프 시퀀스 응용\n",
    "\n",
    "> `print()` 함수를 한 번만 사용하여 다음 문장을 출력하시오.\n",
    "\n",
    "```\n",
    "\"파일은 c:\\Windows\\Users\\내문서\\Python에 저장이 되었습니다.\"\n",
    "나는 생각했다. 'cd를 써서 git bash로 들어가 봐야지.'\n",
    "```\n"
   ]
  },
  {
   "cell_type": "code",
   "execution_count": 1,
   "metadata": {},
   "outputs": [
    {
     "name": "stdout",
     "output_type": "stream",
     "text": [
      "\"파일은 c:\\Windows\\Users\\내문서\\Python에 저장이 되었습니다.\"\n",
      "나는 생각했다. 'cd를 써서 git bash로 들어가 봐야지.'\n",
      "\n",
      "\"파일은 c:\\Windows\\Users\\내문서\\Python에 저장이 되었습니다.\"\n",
      "나는 생각했다. 'cd를 써서 git bash로 들어가 봐야지.'\n"
     ]
    }
   ],
   "source": [
    "# 아래에 답안을 작성하시오.\n",
    "print('''\"파일은 c:\\\\Windows\\\\Users\\\\내문서\\\\Python에 저장이 되었습니다.\"\n",
    "나는 생각했다. 'cd를 써서 git bash로 들어가 봐야지.'\n",
    "''')\n",
    "\n",
    "print('\"파일은 c:\\\\Windows\\\\Users\\\\내문서\\\\Python에 저장이 되었습니다.\"\\n나는 생각했다. \\'cd를 써서 git bash로 들어가 봐야지.\\'')\n"
   ]
  },
  {
   "cell_type": "markdown",
   "metadata": {},
   "source": [
    "## 8. 근의 공식\n",
    "\n",
    "> 다음은 이차 방정식의 근을 찾는 수식이다. 이를 파이썬 코드로 작성하시오.\n",
    "\n",
    "![image](https://user-images.githubusercontent.com/45934087/87770068-7774a880-c859-11ea-8433-7be4ad1fa4e4.png)"
   ]
  },
  {
   "cell_type": "code",
   "execution_count": 27,
   "metadata": {},
   "outputs": [
    {
     "name": "stdout",
     "output_type": "stream",
     "text": [
      "1\n",
      "2\n",
      "-8\n",
      "2.0 -4.0\n"
     ]
    }
   ],
   "source": [
    "# 아래에 답안을 작성하시오.\n",
    "a = int(input())\n",
    "b = int(input())\n",
    "c = int(input())\n",
    "\n",
    "base = (b**2) - (4 * a * c)\n",
    "base2 = (-b + base**0.5) / (2 * a)\n",
    "base3 = (-b - base**0.5) / (2 * a)\n",
    "\n",
    "print(base2, base3)\n",
    "\n"
   ]
  }
 ],
 "metadata": {
  "kernelspec": {
   "display_name": "Python 3",
   "language": "python",
   "name": "python3"
  },
  "language_info": {
   "codemirror_mode": {
    "name": "ipython",
    "version": 3
   },
   "file_extension": ".py",
   "mimetype": "text/x-python",
   "name": "python",
   "nbconvert_exporter": "python",
   "pygments_lexer": "ipython3",
   "version": "3.8.7"
  }
 },
 "nbformat": 4,
 "nbformat_minor": 4
}
